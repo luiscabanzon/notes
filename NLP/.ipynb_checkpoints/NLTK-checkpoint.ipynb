{
 "cells": [
  {
   "cell_type": "code",
   "execution_count": 1,
   "metadata": {
    "collapsed": false
   },
   "outputs": [
    {
     "name": "stdout",
     "output_type": "stream",
     "text": [
      "*** Introductory Examples for the NLTK Book ***\n",
      "Loading text1, ..., text9 and sent1, ..., sent9\n",
      "Type the name of the text or sentence to view it.\n",
      "Type: 'texts()' or 'sents()' to list the materials.\n",
      "text1: Moby Dick by Herman Melville 1851\n",
      "text2: Sense and Sensibility by Jane Austen 1811\n",
      "text3: The Book of Genesis\n",
      "text4: Inaugural Address Corpus\n",
      "text5: Chat Corpus\n",
      "text6: Monty Python and the Holy Grail\n",
      "text7: Wall Street Journal\n",
      "text8: Personals Corpus\n",
      "text9: The Man Who Was Thursday by G . K . Chesterton 1908\n"
     ]
    }
   ],
   "source": [
    "#NLTK includes de set of corpus to start working with\n",
    "from nltk.book import *"
   ]
  },
  {
   "cell_type": "code",
   "execution_count": 2,
   "metadata": {
    "collapsed": false
   },
   "outputs": [
    {
     "name": "stdout",
     "output_type": "stream",
     "text": [
      "This text contains 100676 tokens\n",
      "From which 12408 are unique\n",
      "And their average frequency is 8.114\n"
     ]
    }
   ],
   "source": [
    "print(\"This text contains %d tokens\" %(len(text7)))\n",
    "print(\"From which %d are unique\" % len(set(text7)))\n",
    "print(\"And their average frequency is %3.3f\" %(1.*len(text7)/len(set(text7))))"
   ]
  },
  {
   "cell_type": "code",
   "execution_count": 3,
   "metadata": {
    "collapsed": false,
    "scrolled": false
   },
   "outputs": [
    {
     "name": "stdout",
     "output_type": "stream",
     "text": [
      "Displaying 5 of 161 matches:\n",
      "said *T*-1 Darrell Phillips , vice president of human resources for Hollingswor\n",
      "Vitulli was named *-12 senior vice president *RNR*-1 and general manager *RNR*-\n",
      " Spoon , recently named * Newsweek president , said 0 Newsweek 's ad rates woul\n",
      "ut $ 2.2 billion *U* . John Rowe , president *RNR*-1 and chief executive office\n",
      "n Ricken , 52 years old and former president and chief operating officer of Toy\n"
     ]
    }
   ],
   "source": [
    "# Lines in the text containing certain word\n",
    "text7.concordance(\"president\", lines = 5)"
   ]
  },
  {
   "cell_type": "code",
   "execution_count": 4,
   "metadata": {
    "collapsed": false,
    "scrolled": true
   },
   "outputs": [
    {
     "name": "stdout",
     "output_type": "stream",
     "text": [
      "market company issue rise stock law irs industry dollar information\n",
      "president idea most country region period situation government chain\n",
      "manager\n"
     ]
    }
   ],
   "source": [
    "# Words with a similar context\n",
    "text7.similar(\"economy\")"
   ]
  },
  {
   "cell_type": "code",
   "execution_count": 5,
   "metadata": {
    "collapsed": false
   },
   "outputs": [
    {
     "name": "stdout",
     "output_type": "stream",
     "text": [
      "the_recent the_was the_is\n"
     ]
    }
   ],
   "source": [
    "# The term common_contexts allows us to examine just the contexts\n",
    "# that are shared by two or more words\n",
    "text7.common_contexts([\"dollar\", \"economy\"])"
   ]
  },
  {
   "cell_type": "code",
   "execution_count": 6,
   "metadata": {
    "collapsed": false,
    "scrolled": true
   },
   "outputs": [],
   "source": [
    "# To determine the location of a word in the text\n",
    "# (how many words from the beginning it appears)\n",
    "#text3.dispersion_plot([\"economy\", \"market\", \"dollar\", \"law\"])"
   ]
  },
  {
   "cell_type": "code",
   "execution_count": 7,
   "metadata": {
    "collapsed": false
   },
   "outputs": [
    {
     "data": {
      "text/plain": [
       "3"
      ]
     },
     "execution_count": 7,
     "metadata": {},
     "output_type": "execute_result"
    }
   ],
   "source": [
    "# What's the absolut frequency of some word?\n",
    "text7.count(\"presidency\")"
   ]
  },
  {
   "cell_type": "code",
   "execution_count": 8,
   "metadata": {
    "collapsed": false
   },
   "outputs": [],
   "source": [
    "from nltk import tokenize\n",
    "\n",
    "text = open(\"NLP.txt\", 'r').read()\n",
    "tokens = tokenize.word_tokenize(text)"
   ]
  },
  {
   "cell_type": "code",
   "execution_count": 9,
   "metadata": {
    "collapsed": false
   },
   "outputs": [
    {
     "name": "stdout",
     "output_type": "stream",
     "text": [
      "['Canada', 'limited', 'all', 'concepts', 'semantic', 'consider', 'Learn', 'results', 'existing', 'adjective']\n"
     ]
    }
   ],
   "source": [
    "from nltk import FreqDist\n",
    "\n",
    "fdist = FreqDist(tokens)\n",
    "print(fdist.keys()[:10])\n",
    "# fdist.plot(10, cumulative = True)"
   ]
  },
  {
   "cell_type": "code",
   "execution_count": 10,
   "metadata": {
    "collapsed": false
   },
   "outputs": [
    {
     "name": "stdout",
     "output_type": "stream",
     "text": [
      "million *U*; New York; billion *U*; Wall Street; program trading; Mrs.\n",
      "Yeargin; vice president; Stock Exchange; Big Board; Georgia Gulf;\n",
      "chief executive; Dow Jones; S&P 500; says *T*-1; York Stock; last\n",
      "year; Sea Containers; South Korea; American Express; San Francisco\n"
     ]
    }
   ],
   "source": [
    "# to find collocations\n",
    "# (sequences of words that occur together unusually often)\n",
    "text7.collocations()"
   ]
  },
  {
   "cell_type": "code",
   "execution_count": 11,
   "metadata": {
    "collapsed": false
   },
   "outputs": [
    {
     "name": "stdout",
     "output_type": "stream",
     "text": [
      "Top Bigrams:\n",
      "[(',', 'and'), ('of', 'the'), (')', '.'), ('of', 'a'), ('such', 'as'), ('.', 'The'), (')', ','), ('is', 'a'), ('.', 'In'), ('can', 'be'), ('in', 'the'), ('e.g', '.'), ('(', 'e.g'), ('based', 'on'), ('machine', 'learning'), ('of', 'text'), (',', 'the'), ('.', '['), ('Given', 'a'), ('[', 'edit'), ('edit', ']'), ('natural', 'language'), ('to', 'the'), ('with', 'the'), (',', 'such')]\n",
      "\n",
      "\n",
      "Top Trigrams:\n",
      "[('(', 'e.g', '.'), ('[', 'edit', ']'), (',', 'such', 'as'), ('.', 'However', ','), ('a', 'chunk', 'of'), ('chunk', 'of', 'text'), ('.', 'For', 'example'), ('For', 'example', ','), ('a', 'number', 'of'), ('of', 'text', ',')]\n"
     ]
    }
   ],
   "source": [
    "from nltk import bigrams, collocations\n",
    "from nltk import BigramCollocationFinder, TrigramCollocationFinder\n",
    "\n",
    "# token_bigrams = bigrams(tokens)\n",
    "# BigramCollocationFinder(fdist, bigrams)\n",
    "bigram_measures = collocations.BigramAssocMeasures()\n",
    "trigram_measures = collocations.BigramAssocMeasures()\n",
    "\n",
    "print(\"Top Bigrams:\")\n",
    "print(BigramCollocationFinder.from_words(tokens).nbest(bigram_measures.raw_freq, 25))\n",
    "print(\"\\n\")\n",
    "print(\"Top Trigrams:\")\n",
    "print(TrigramCollocationFinder.from_words(tokens).nbest(trigram_measures.raw_freq, 10))"
   ]
  },
  {
   "cell_type": "code",
   "execution_count": null,
   "metadata": {
    "collapsed": true
   },
   "outputs": [],
   "source": []
  }
 ],
 "metadata": {
  "kernelspec": {
   "display_name": "Python 2",
   "language": "python",
   "name": "python2"
  },
  "language_info": {
   "codemirror_mode": {
    "name": "ipython",
    "version": 2
   },
   "file_extension": ".py",
   "mimetype": "text/x-python",
   "name": "python",
   "nbconvert_exporter": "python",
   "pygments_lexer": "ipython2",
   "version": "2.7.10"
  }
 },
 "nbformat": 4,
 "nbformat_minor": 0
}
